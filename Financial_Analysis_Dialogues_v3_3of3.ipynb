{
 "cells": [
  {
   "cell_type": "code",
   "execution_count": 1,
   "id": "886c0ede",
   "metadata": {},
   "outputs": [],
   "source": [
    "#show unemployment rates for the last 3 years"
   ]
  },
  {
   "cell_type": "code",
   "execution_count": 2,
   "id": "d939a8ef",
   "metadata": {},
   "outputs": [
    {
     "name": "stdout",
     "output_type": "stream",
     "text": [
      "lfst_code            Unemployment rate\n",
      "absn_code                          N/A\n",
      "activity_code                      N/A\n",
      "ages_code            16 years and over\n",
      "cert_code                          N/A\n",
      "class_code                         N/A\n",
      "duration_code                      N/A\n",
      "education_code  All educational levels\n",
      "entr_code                          N/A\n",
      "expr_code                          N/A\n",
      "hheader_code                       N/A\n",
      "hour_code                          N/A\n",
      "indy_code               All Industries\n",
      "jdes_code                          N/A\n",
      "look_code                          N/A\n",
      "mari_code                          N/A\n",
      "mjhs_code                          N/A\n",
      "occupation_code        All Occupations\n",
      "orig_code                  All Origins\n",
      "pcts_code                          N/A\n",
      "race_code                    All Races\n",
      "rjnw_code                          N/A\n",
      "rnlf_code                          N/A\n",
      "rwns_code                          N/A\n",
      "seek_code                          N/A\n",
      "sexs_code                   Both Sexes\n",
      "tdat_code              Percent or rate\n",
      "vets_code                          N/A\n",
      "wkst_code                          N/A\n",
      "born_code                          N/A\n",
      "chld_code                          N/A\n",
      "disa_code                          N/A\n",
      "None                              None\n",
      "TIME_PERIOD                           \n",
      "2019-06-01                         3.6\n",
      "2019-07-01                         3.7\n",
      "2019-08-01                         3.7\n",
      "2019-09-01                         3.5\n",
      "2019-10-01                         3.6\n",
      "2019-11-01                         3.6\n",
      "2019-12-01                         3.6\n",
      "2020-01-01                         3.5\n",
      "2020-02-01                         3.5\n",
      "2020-03-01                         4.4\n",
      "2020-04-01                        14.7\n",
      "2020-05-01                        13.2\n",
      "2020-06-01                        11.0\n",
      "2020-07-01                        10.2\n",
      "2020-08-01                         8.4\n",
      "2020-09-01                         7.9\n",
      "2020-10-01                         6.9\n",
      "2020-11-01                         6.7\n",
      "2020-12-01                         6.7\n",
      "2021-01-01                         6.4\n",
      "2021-02-01                         6.2\n",
      "2021-03-01                         6.0\n",
      "2021-04-01                         6.0\n",
      "2021-05-01                         5.8\n",
      "2021-06-01                         5.9\n",
      "2021-07-01                         5.4\n",
      "2021-08-01                         5.2\n",
      "2021-09-01                         4.7\n",
      "2021-10-01                         4.6\n",
      "2021-11-01                         4.2\n",
      "2021-12-01                         3.9\n",
      "2022-01-01                         4.0\n",
      "2022-02-01                         3.8\n",
      "2022-03-01                         3.6\n",
      "2022-04-01                         3.6\n"
     ]
    }
   ],
   "source": [
    "import pandas_datareader.data as web\n",
    "import datetime as dt\n",
    "\n",
    "U_rates = web.DataReader('ticker=URATEUS', 'econdb', dt.date.today()-dt.timedelta(days=1095))\n",
    "print(U_rates)"
   ]
  },
  {
   "cell_type": "code",
   "execution_count": 3,
   "id": "f96c6a1b",
   "metadata": {},
   "outputs": [],
   "source": [
    "#clean this up so that only the table is shown"
   ]
  },
  {
   "cell_type": "code",
   "execution_count": 4,
   "id": "5f043c65",
   "metadata": {},
   "outputs": [
    {
     "name": "stdout",
     "output_type": "stream",
     "text": [
      "             Unemployment rate\n",
      "TIME_PERIOD                   \n",
      "2019-06-01                 3.6\n",
      "2019-07-01                 3.7\n",
      "2019-08-01                 3.7\n",
      "2019-09-01                 3.5\n",
      "2019-10-01                 3.6\n",
      "2019-11-01                 3.6\n",
      "2019-12-01                 3.6\n",
      "2020-01-01                 3.5\n",
      "2020-02-01                 3.5\n",
      "2020-03-01                 4.4\n",
      "2020-04-01                14.7\n",
      "2020-05-01                13.2\n",
      "2020-06-01                11.0\n",
      "2020-07-01                10.2\n",
      "2020-08-01                 8.4\n",
      "2020-09-01                 7.9\n",
      "2020-10-01                 6.9\n",
      "2020-11-01                 6.7\n",
      "2020-12-01                 6.7\n",
      "2021-01-01                 6.4\n",
      "2021-02-01                 6.2\n",
      "2021-03-01                 6.0\n",
      "2021-04-01                 6.0\n",
      "2021-05-01                 5.8\n",
      "2021-06-01                 5.9\n",
      "2021-07-01                 5.4\n",
      "2021-08-01                 5.2\n",
      "2021-09-01                 4.7\n",
      "2021-10-01                 4.6\n",
      "2021-11-01                 4.2\n",
      "2021-12-01                 3.9\n",
      "2022-01-01                 4.0\n",
      "2022-02-01                 3.8\n",
      "2022-03-01                 3.6\n",
      "2022-04-01                 3.6\n"
     ]
    }
   ],
   "source": [
    "import pandas_datareader.data as web\n",
    "import datetime as dt\n",
    "import pandas as pd\n",
    "\n",
    "U_rates = web.DataReader('ticker=URATEUS', 'econdb', dt.date.today()-dt.timedelta(days=1095))\n",
    "U_rates = pd.DataFrame({\n",
    "    'Unemployment rate':U_rates.iloc[:, 0]\n",
    "}, index=U_rates.index)\n",
    "print(U_rates)"
   ]
  },
  {
   "cell_type": "code",
   "execution_count": 5,
   "id": "de5eace2",
   "metadata": {},
   "outputs": [],
   "source": [
    "#sort the table in ascending order of unemployment rate"
   ]
  },
  {
   "cell_type": "code",
   "execution_count": 6,
   "id": "34aab3ff",
   "metadata": {},
   "outputs": [
    {
     "name": "stdout",
     "output_type": "stream",
     "text": [
      "             Unemployment rate\n",
      "TIME_PERIOD                   \n",
      "2020-02-01                 3.5\n",
      "2019-09-01                 3.5\n",
      "2020-01-01                 3.5\n",
      "2019-06-01                 3.6\n",
      "2022-03-01                 3.6\n",
      "2019-12-01                 3.6\n",
      "2022-04-01                 3.6\n",
      "2019-10-01                 3.6\n",
      "2019-11-01                 3.6\n",
      "2019-08-01                 3.7\n",
      "2019-07-01                 3.7\n",
      "2022-02-01                 3.8\n",
      "2021-12-01                 3.9\n",
      "2022-01-01                 4.0\n",
      "2021-11-01                 4.2\n",
      "2020-03-01                 4.4\n",
      "2021-10-01                 4.6\n",
      "2021-09-01                 4.7\n",
      "2021-08-01                 5.2\n",
      "2021-07-01                 5.4\n",
      "2021-05-01                 5.8\n",
      "2021-06-01                 5.9\n",
      "2021-04-01                 6.0\n",
      "2021-03-01                 6.0\n",
      "2021-02-01                 6.2\n",
      "2021-01-01                 6.4\n",
      "2020-12-01                 6.7\n",
      "2020-11-01                 6.7\n",
      "2020-10-01                 6.9\n",
      "2020-09-01                 7.9\n",
      "2020-08-01                 8.4\n",
      "2020-07-01                10.2\n",
      "2020-06-01                11.0\n",
      "2020-05-01                13.2\n",
      "2020-04-01                14.7\n"
     ]
    }
   ],
   "source": [
    "import pandas_datareader.data as web\n",
    "import datetime as dt\n",
    "import pandas as pd\n",
    "\n",
    "U_rates = web.DataReader('ticker=URATEUS', 'econdb', dt.date.today()-dt.timedelta(days=1095))\n",
    "U_rates = pd.DataFrame({\n",
    "    'Unemployment rate':U_rates.iloc[:, 0]\n",
    "}, index=U_rates.index)\n",
    "U_rates = U_rates.sort_values('Unemployment rate')\n",
    "print(U_rates)"
   ]
  }
 ],
 "metadata": {
  "kernelspec": {
   "display_name": "Python 3 (ipykernel)",
   "language": "python",
   "name": "python3"
  },
  "language_info": {
   "codemirror_mode": {
    "name": "ipython",
    "version": 3
   },
   "file_extension": ".py",
   "mimetype": "text/x-python",
   "name": "python",
   "nbconvert_exporter": "python",
   "pygments_lexer": "ipython3",
   "version": "3.9.7"
  }
 },
 "nbformat": 4,
 "nbformat_minor": 5
}
