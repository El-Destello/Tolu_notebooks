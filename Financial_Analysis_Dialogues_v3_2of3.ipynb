{
 "cells": [
  {
   "cell_type": "code",
   "execution_count": 1,
   "id": "2d898439",
   "metadata": {},
   "outputs": [],
   "source": [
    "#print a dataframe of the GDP and GNP data for the past two years"
   ]
  },
  {
   "cell_type": "code",
   "execution_count": 2,
   "id": "88ae59af",
   "metadata": {},
   "outputs": [
    {
     "name": "stdout",
     "output_type": "stream",
     "text": [
      "                  GDP        GNP\n",
      "DATE                            \n",
      "2020-07-01  21138.574  21365.412\n",
      "2020-10-01  21477.597  21728.223\n",
      "2021-01-01  22038.226  22273.060\n",
      "2021-04-01  22740.959  22971.357\n",
      "2021-07-01  23202.344  23470.015\n",
      "2021-10-01  24002.815  24279.715\n",
      "2022-01-01  24382.683        NaN\n"
     ]
    }
   ],
   "source": [
    "import pandas_datareader.data as web\n",
    "import datetime as dt\n",
    "\n",
    "df = web.DataReader(('GDP', 'GNP'), 'fred', dt.date.today()-dt.timedelta(days=730))\n",
    "print(df)"
   ]
  },
  {
   "cell_type": "code",
   "execution_count": 3,
   "id": "5928756c",
   "metadata": {},
   "outputs": [],
   "source": [
    "#remove all rows with invalid entries"
   ]
  },
  {
   "cell_type": "code",
   "execution_count": 4,
   "id": "1c4583ac",
   "metadata": {},
   "outputs": [
    {
     "name": "stdout",
     "output_type": "stream",
     "text": [
      "                  GDP        GNP\n",
      "DATE                            \n",
      "2020-07-01  21138.574  21365.412\n",
      "2020-10-01  21477.597  21728.223\n",
      "2021-01-01  22038.226  22273.060\n",
      "2021-04-01  22740.959  22971.357\n",
      "2021-07-01  23202.344  23470.015\n",
      "2021-10-01  24002.815  24279.715\n"
     ]
    }
   ],
   "source": [
    "import pandas_datareader.data as web\n",
    "import datetime as dt\n",
    "\n",
    "df = web.DataReader(('GDP', 'GNP'), 'fred', dt.date.today()-dt.timedelta(days=730))\n",
    "df = df.dropna()\n",
    "print(df)"
   ]
  },
  {
   "cell_type": "code",
   "execution_count": 5,
   "id": "9e72eee9",
   "metadata": {},
   "outputs": [],
   "source": [
    "#plot a grouped bar chart of the GDP and GNP"
   ]
  },
  {
   "cell_type": "code",
   "execution_count": 6,
   "id": "1351bc02",
   "metadata": {},
   "outputs": [
    {
     "data": {
      "text/plain": [
       "<BarContainer object of 6 artists>"
      ]
     },
     "execution_count": 6,
     "metadata": {},
     "output_type": "execute_result"
    },
    {
     "data": {
      "image/png": "[encoded data removed]",
      "text/plain": [
       "<Figure size 432x288 with 1 Axes>"
      ]
     },
     "metadata": {
      "needs_background": "light"
     },
     "output_type": "display_data"
    }
   ],
   "source": [
    "import pandas_datareader.data as web\n",
    "import datetime as dt\n",
    "import pylab as plt\n",
    "\n",
    "df = web.DataReader(('GDP', 'GNP'), 'fred', dt.date.today()-dt.timedelta(days=730))\n",
    "df = df.dropna()\n",
    "fig, ax = plt.subplots()\n",
    "width = 70\n",
    "ax.bar(df.index, df.GDP, align='edge', width=width/2)\n",
    "ax.bar(df.index, df.GNP, align='edge', width=-width/2)"
   ]
  },
  {
   "cell_type": "code",
   "execution_count": 7,
   "id": "f0b1a7f9",
   "metadata": {},
   "outputs": [],
   "source": [
    "#increase the horizontal length of the graph"
   ]
  },
  {
   "cell_type": "code",
   "execution_count": 8,
   "id": "211c4236",
   "metadata": {},
   "outputs": [
    {
     "data": {
      "text/plain": [
       "<BarContainer object of 6 artists>"
      ]
     },
     "execution_count": 8,
     "metadata": {},
     "output_type": "execute_result"
    },
    {
     "data": {
      "image/png": "[encoded data removed]",
      "text/plain": [
       "<Figure size 720x288 with 1 Axes>"
      ]
     },
     "metadata": {
      "needs_background": "light"
     },
     "output_type": "display_data"
    }
   ],
   "source": [
    "import pandas_datareader.data as web\n",
    "import datetime as dt\n",
    "import pylab as plt\n",
    "\n",
    "df = web.DataReader(('GDP', 'GNP'), 'fred', dt.date.today()-dt.timedelta(days=730))\n",
    "df = df.dropna()\n",
    "fig, ax = plt.subplots(figsize=(10,4))\n",
    "width = 70\n",
    "ax.bar(df.index, df.GDP, align='edge', width=width/2)\n",
    "ax.bar(df.index, df.GNP, align='edge', width=-width/2)"
   ]
  },
  {
   "cell_type": "code",
   "execution_count": 9,
   "id": "2dd36306",
   "metadata": {},
   "outputs": [],
   "source": [
    "#make each group of bars correspond to a date on the x axis"
   ]
  },
  {
   "cell_type": "code",
   "execution_count": 10,
   "id": "82f332aa",
   "metadata": {},
   "outputs": [
    {
     "data": {
      "text/plain": [
       "[<matplotlib.axis.XTick at 0x16f5ef6ed30>,\n",
       " <matplotlib.axis.XTick at 0x16f5ef6ed00>,\n",
       " <matplotlib.axis.XTick at 0x16f5ef90f10>,\n",
       " <matplotlib.axis.XTick at 0x16f5efba160>,\n",
       " <matplotlib.axis.XTick at 0x16f5efba7f0>,\n",
       " <matplotlib.axis.XTick at 0x16f5efbaf40>]"
      ]
     },
     "execution_count": 10,
     "metadata": {},
     "output_type": "execute_result"
    },
    {
     "data": {
      "image/png": "[encoded data removed]",
      "text/plain": [
       "<Figure size 720x288 with 1 Axes>"
      ]
     },
     "metadata": {
      "needs_background": "light"
     },
     "output_type": "display_data"
    }
   ],
   "source": [
    "import pandas_datareader.data as web\n",
    "import datetime as dt\n",
    "import pylab as plt\n",
    "\n",
    "df = web.DataReader(('GDP', 'GNP'), 'fred', dt.date.today()-dt.timedelta(days=730))\n",
    "df = df.dropna()\n",
    "fig, ax = plt.subplots(figsize=(10,4))\n",
    "width = 70\n",
    "ax.bar(df.index, df.GDP, align='edge', width=width/2)\n",
    "ax.bar(df.index, df.GNP, align='edge', width=-width/2)\n",
    "ax.set_xticks(df.index)"
   ]
  }
 ],
 "metadata": {
  "kernelspec": {
   "display_name": "Python 3 (ipykernel)",
   "language": "python",
   "name": "python3"
  },
  "language_info": {
   "codemirror_mode": {
    "name": "ipython",
    "version": 3
   },
   "file_extension": ".py",
   "mimetype": "text/x-python",
   "name": "python",
   "nbconvert_exporter": "python",
   "pygments_lexer": "ipython3",
   "version": "3.9.7"
  }
 },
 "nbformat": 4,
 "nbformat_minor": 5
}
